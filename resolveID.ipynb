{
 "cells": [
  {
   "cell_type": "markdown",
   "metadata": {},
   "source": [
    "## Resolve an identifier with Wikidata\n",
    "Submit an identifier and this app will return the Wikidata link. If a concept already exist, the link will be return, if it doesn't exist, the respective items will be created in Wikidata and the resulting Wikidata identifier will be returned."
   ]
  },
  {
   "cell_type": "code",
   "execution_count": 107,
   "metadata": {},
   "outputs": [
    {
     "data": {
      "application/vnd.jupyter.widget-view+json": {
       "model_id": "7cac926dc4404a1ead16ed7cf72e2685",
       "version_major": 2,
       "version_minor": 0
      },
      "text/plain": [
       "VBox(children=(VBox(children=(Text(value='', description='Wikidata username'), Password(description='Password:…"
      ]
     },
     "metadata": {},
     "output_type": "display_data"
    }
   ],
   "source": [
    "from wikidataintegrator import wdi_core, wdi_login, wdi_helpers\n",
    "import ipywidgets as widgets\n",
    "\n",
    "## Login panel\n",
    "username_textbox = widgets.Text(\n",
    "       value=\"\",\n",
    "        description=\"Wikidata username\",\n",
    ")\n",
    "\n",
    "password_textbox = widgets.Password(description='Password:')\n",
    "loginbutton = widgets.Button(description=\"login\")\n",
    "loginlabel = widgets.Label(value=\"\")\n",
    "\n",
    "@loginbutton.on_click\n",
    "def wdlogin(b):\n",
    "    login = wdi_login.WDLogin(username_textbox.value, password_textbox.value)\n",
    "    creds = login.generate_edit_credentials()\n",
    "    koekjes = check.get_dict()\n",
    "    loginlabel.value=\"Logged in to Wikidata as User: \"+koekjes[\"wikidatawikiUserName\"]\n",
    "    loginbutton.layout.visibility=\"hidden\"\n",
    "    username_textbox.layout.visibility=\"hidden\"\n",
    "    password_textbox.layout.visitbility=\"hidden\"\n",
    "\n",
    "\n",
    "loginPane = widgets.VBox(children=[username_textbox, password_textbox, loginbutton, loginlabel])\n",
    "\n",
    "### Tabs to identifier resolvers\n",
    "#### Citations\n",
    "pmid_textbox = widgets.Text(\n",
    "    value='',\n",
    "    description='PMID',\n",
    ")\n",
    "PMIDbutton = widgets.Button(\n",
    "    description='Wikidata',\n",
    ")\n",
    "@PMIDbutton.on_click\n",
    "def PMIDresolve(b):\n",
    "    pmid_qid, _, _ = wdi_helpers.PublicationHelper(pmid_textbox.value, id_type=\"pmid\",source=\"europepmc\").get_or_create(login)\n",
    "    wdpmidlabel.value=pmid_qid\n",
    "    \n",
    "wdpmidlabel = widgets.Label(value=\"\")\n",
    "\n",
    "doi_textbox = widgets.Text(\n",
    "    value='',\n",
    "    description='DOI',\n",
    ")\n",
    "DOIbutton = widgets.Button(\n",
    "    description='Wikidata',\n",
    ")\n",
    "\n",
    "tab1 = widgets.HBox(children=[pmid_textbox, PMIDbutton, wdpmidlabel]) # Citations\n",
    "tab2 = widgets.VBox(children=[PMIDbutton, pmid_textbox])\n",
    "tab3 = widgets.VBox(children=[PMIDbutton, pmid_textbox])\n",
    "tab = widgets.Tab(children=[tab1, tab2, tab3])\n",
    "tab.set_title(0, 'Citations')\n",
    "tab.set_title(1, 'Genes')\n",
    "tab.set_title(2, 'Chemicals')\n",
    "\n",
    "widgets.VBox(children=[loginPane, tab])"
   ]
  },
  {
   "cell_type": "code",
   "execution_count": null,
   "metadata": {},
   "outputs": [],
   "source": []
  }
 ],
 "metadata": {
  "kernelspec": {
   "display_name": "Python 3",
   "language": "python",
   "name": "python3"
  },
  "language_info": {
   "codemirror_mode": {
    "name": "ipython",
    "version": 3
   },
   "file_extension": ".py",
   "mimetype": "text/x-python",
   "name": "python",
   "nbconvert_exporter": "python",
   "pygments_lexer": "ipython3",
   "version": "3.6.9"
  }
 },
 "nbformat": 4,
 "nbformat_minor": 4
}